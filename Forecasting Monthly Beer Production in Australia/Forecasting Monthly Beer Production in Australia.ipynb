{
 "cells": [
  {
   "cell_type": "markdown",
   "id": "77a690b9",
   "metadata": {},
   "source": [
    "### Import the required libraries"
   ]
  },
  {
   "cell_type": "code",
   "execution_count": 13,
   "id": "b20b4a7a",
   "metadata": {},
   "outputs": [],
   "source": [
    "import pandas as pd\n",
    "from darts import TimeSeries"
   ]
  },
  {
   "cell_type": "markdown",
   "id": "75c778ef",
   "metadata": {},
   "source": [
    "### Import and read the dataset"
   ]
  },
  {
   "cell_type": "code",
   "execution_count": 14,
   "id": "3f52e6ea",
   "metadata": {},
   "outputs": [
    {
     "data": {
      "text/html": [
       "<div>\n",
       "<style scoped>\n",
       "    .dataframe tbody tr th:only-of-type {\n",
       "        vertical-align: middle;\n",
       "    }\n",
       "\n",
       "    .dataframe tbody tr th {\n",
       "        vertical-align: top;\n",
       "    }\n",
       "\n",
       "    .dataframe thead th {\n",
       "        text-align: right;\n",
       "    }\n",
       "</style>\n",
       "<table border=\"1\" class=\"dataframe\">\n",
       "  <thead>\n",
       "    <tr style=\"text-align: right;\">\n",
       "      <th></th>\n",
       "      <th>Month</th>\n",
       "      <th>Monthly beer production</th>\n",
       "    </tr>\n",
       "  </thead>\n",
       "  <tbody>\n",
       "    <tr>\n",
       "      <th>0</th>\n",
       "      <td>1956-01</td>\n",
       "      <td>93.2</td>\n",
       "    </tr>\n",
       "    <tr>\n",
       "      <th>1</th>\n",
       "      <td>1956-02</td>\n",
       "      <td>96.0</td>\n",
       "    </tr>\n",
       "    <tr>\n",
       "      <th>2</th>\n",
       "      <td>1956-03</td>\n",
       "      <td>95.2</td>\n",
       "    </tr>\n",
       "    <tr>\n",
       "      <th>3</th>\n",
       "      <td>1956-04</td>\n",
       "      <td>77.1</td>\n",
       "    </tr>\n",
       "    <tr>\n",
       "      <th>4</th>\n",
       "      <td>1956-05</td>\n",
       "      <td>70.9</td>\n",
       "    </tr>\n",
       "  </tbody>\n",
       "</table>\n",
       "</div>"
      ],
      "text/plain": [
       "     Month  Monthly beer production\n",
       "0  1956-01                     93.2\n",
       "1  1956-02                     96.0\n",
       "2  1956-03                     95.2\n",
       "3  1956-04                     77.1\n",
       "4  1956-05                     70.9"
      ]
     },
     "execution_count": 14,
     "metadata": {},
     "output_type": "execute_result"
    }
   ],
   "source": [
    "data = pd.read_csv(\"monthly-beer-production-in-australia.csv\")\n",
    "\n",
    "data.head()"
   ]
  },
  {
   "cell_type": "markdown",
   "id": "618bb534",
   "metadata": {},
   "source": [
    "### Check the number of rows and columns in the dataset"
   ]
  },
  {
   "cell_type": "code",
   "execution_count": 15,
   "id": "885566f0",
   "metadata": {},
   "outputs": [
    {
     "data": {
      "text/plain": [
       "(476, 2)"
      ]
     },
     "execution_count": 15,
     "metadata": {},
     "output_type": "execute_result"
    }
   ],
   "source": [
    "data.shape"
   ]
  },
  {
   "cell_type": "markdown",
   "id": "6f33899c",
   "metadata": {},
   "source": [
    "### Split the dataset into training set and testing set. Here, I am choosing the 275th time period ('1978-10') to make the split because there are 477 rows."
   ]
  },
  {
   "cell_type": "code",
   "execution_count": 16,
   "id": "63008867",
   "metadata": {},
   "outputs": [],
   "source": [
    "get_data = TimeSeries.from_dataframe(data, 'Month', 'Monthly beer production')\n",
    "\n",
    "train_data, test_data = get_data.split_before(pd.Timestamp('1978-10'))"
   ]
  },
  {
   "cell_type": "markdown",
   "id": "55f36af2",
   "metadata": {},
   "source": [
    "### Train the model. fit() method is used to fit the dataset in the model."
   ]
  },
  {
   "cell_type": "code",
   "execution_count": 17,
   "id": "9decad55",
   "metadata": {},
   "outputs": [
    {
     "data": {
      "text/plain": [
       "<darts.models.forecasting.exponential_smoothing.ExponentialSmoothing at 0x20998e51b80>"
      ]
     },
     "execution_count": 17,
     "metadata": {},
     "output_type": "execute_result"
    }
   ],
   "source": [
    "from darts.models import ExponentialSmoothing\n",
    "\n",
    "model = ExponentialSmoothing()\n",
    "\n",
    "model.fit(train_data)"
   ]
  },
  {
   "cell_type": "markdown",
   "id": "b1e2f972",
   "metadata": {},
   "source": [
    "### Make the predictions"
   ]
  },
  {
   "cell_type": "code",
   "execution_count": 18,
   "id": "ec229855",
   "metadata": {},
   "outputs": [
    {
     "name": "stdout",
     "output_type": "stream",
     "text": [
      "Predicted <TimeSeries (DataArray) (Month: 5, component: 1, sample: 1)>\n",
      "array([[[175.77863437]],\n",
      "\n",
      "       [[185.59344189]],\n",
      "\n",
      "       [[199.95206707]],\n",
      "\n",
      "       [[168.38141606]],\n",
      "\n",
      "       [[160.35512731]]])\n",
      "Coordinates:\n",
      "  * Month      (Month) datetime64[ns] 1978-10-01 1978-11-01 ... 1979-02-01\n",
      "  * component  (component) object 'Monthly beer production'\n",
      "Dimensions without coordinates: sample\n",
      "Attributes:\n",
      "    static_covariates:  None\n",
      "    hierarchy:          None\n",
      "Actual <TimeSeries (DataArray) (Month: 5, component: 1, sample: 1)>\n",
      "array([[[172.1]],\n",
      "\n",
      "       [[198.4]],\n",
      "\n",
      "       [[217.8]],\n",
      "\n",
      "       [[173.7]],\n",
      "\n",
      "       [[153.8]]])\n",
      "Coordinates:\n",
      "  * Month      (Month) datetime64[ns] 1978-10-01 1978-11-01 ... 1979-02-01\n",
      "  * component  (component) object 'Monthly beer production'\n",
      "Dimensions without coordinates: sample\n",
      "Attributes:\n",
      "    static_covariates:  None\n",
      "    hierarchy:          None\n"
     ]
    }
   ],
   "source": [
    "prediction = model.predict(len(test_data))\n",
    "\n",
    "print(\"Predicted\", prediction[:5])\n",
    "\n",
    "print(\"Actual\", test_data[:5])"
   ]
  },
  {
   "cell_type": "markdown",
   "id": "139d18b5",
   "metadata": {},
   "source": [
    "### Plot the graph"
   ]
  },
  {
   "cell_type": "code",
   "execution_count": 19,
   "id": "4d3849e6",
   "metadata": {},
   "outputs": [
    {
     "data": {
      "text/plain": [
       "<matplotlib.legend.Legend at 0x20998e51df0>"
      ]
     },
     "execution_count": 19,
     "metadata": {},
     "output_type": "execute_result"
    },
    {
     "data": {
      "image/png": "[encoded data removed]",
      "text/plain": [
       "<Figure size 432x288 with 1 Axes>"
      ]
     },
     "metadata": {
      "needs_background": "light"
     },
     "output_type": "display_data"
    }
   ],
   "source": [
    "import matplotlib.pyplot as plt\n",
    "\n",
    "get_data.plot(label='actual')\n",
    "\n",
    "prediction.plot(label='predict', lw=3)\n",
    "\n",
    "plt.legend()"
   ]
  },
  {
   "cell_type": "markdown",
   "id": "de491c25",
   "metadata": {},
   "source": [
    "### The monthly values after year 1978 are forecasted."
   ]
  },
  {
   "cell_type": "code",
   "execution_count": null,
   "id": "d45e86ce",
   "metadata": {},
   "outputs": [],
   "source": []
  },
  {
   "cell_type": "code",
   "execution_count": null,
   "id": "477f977d",
   "metadata": {},
   "outputs": [],
   "source": []
  }
 ],
 "metadata": {
  "kernelspec": {
   "display_name": "Python 3",
   "language": "python",
   "name": "python3"
  },
  "language_info": {
   "codemirror_mode": {
    "name": "ipython",
    "version": 3
   },
   "file_extension": ".py",
   "mimetype": "text/x-python",
   "name": "python",
   "nbconvert_exporter": "python",
   "pygments_lexer": "ipython3",
   "version": "3.9.7"
  }
 },
 "nbformat": 4,
 "nbformat_minor": 5
}
