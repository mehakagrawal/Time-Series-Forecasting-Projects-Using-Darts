{
 "cells": [
  {
   "cell_type": "markdown",
   "id": "7b6ca76b",
   "metadata": {},
   "source": [
    "### Import the required libraries"
   ]
  },
  {
   "cell_type": "code",
   "execution_count": 30,
   "id": "43181ce5",
   "metadata": {},
   "outputs": [],
   "source": [
    "import pandas as pd\n",
    "from darts import TimeSeries"
   ]
  },
  {
   "cell_type": "markdown",
   "id": "5f7b3293",
   "metadata": {},
   "source": [
    "### Import and read the dataset"
   ]
  },
  {
   "cell_type": "code",
   "execution_count": 31,
   "id": "4ccff5bd",
   "metadata": {},
   "outputs": [
    {
     "data": {
      "text/html": [
       "<div>\n",
       "<style scoped>\n",
       "    .dataframe tbody tr th:only-of-type {\n",
       "        vertical-align: middle;\n",
       "    }\n",
       "\n",
       "    .dataframe tbody tr th {\n",
       "        vertical-align: top;\n",
       "    }\n",
       "\n",
       "    .dataframe thead th {\n",
       "        text-align: right;\n",
       "    }\n",
       "</style>\n",
       "<table border=\"1\" class=\"dataframe\">\n",
       "  <thead>\n",
       "    <tr style=\"text-align: right;\">\n",
       "      <th></th>\n",
       "      <th>DATE</th>\n",
       "      <th>IPG2211A2N</th>\n",
       "    </tr>\n",
       "  </thead>\n",
       "  <tbody>\n",
       "    <tr>\n",
       "      <th>0</th>\n",
       "      <td>1/1/1985</td>\n",
       "      <td>72.5052</td>\n",
       "    </tr>\n",
       "    <tr>\n",
       "      <th>1</th>\n",
       "      <td>2/1/1985</td>\n",
       "      <td>70.6720</td>\n",
       "    </tr>\n",
       "    <tr>\n",
       "      <th>2</th>\n",
       "      <td>3/1/1985</td>\n",
       "      <td>62.4502</td>\n",
       "    </tr>\n",
       "    <tr>\n",
       "      <th>3</th>\n",
       "      <td>4/1/1985</td>\n",
       "      <td>57.4714</td>\n",
       "    </tr>\n",
       "    <tr>\n",
       "      <th>4</th>\n",
       "      <td>5/1/1985</td>\n",
       "      <td>55.3151</td>\n",
       "    </tr>\n",
       "  </tbody>\n",
       "</table>\n",
       "</div>"
      ],
      "text/plain": [
       "       DATE  IPG2211A2N\n",
       "0  1/1/1985     72.5052\n",
       "1  2/1/1985     70.6720\n",
       "2  3/1/1985     62.4502\n",
       "3  4/1/1985     57.4714\n",
       "4  5/1/1985     55.3151"
      ]
     },
     "execution_count": 31,
     "metadata": {},
     "output_type": "execute_result"
    }
   ],
   "source": [
    "data = pd.read_csv(\"Electric_Production.csv\")\n",
    "\n",
    "data.head()"
   ]
  },
  {
   "cell_type": "markdown",
   "id": "c62705bf",
   "metadata": {},
   "source": [
    "### Check the number of rows and columns in the dataset"
   ]
  },
  {
   "cell_type": "code",
   "execution_count": 32,
   "id": "2f72b83b",
   "metadata": {},
   "outputs": [
    {
     "data": {
      "text/plain": [
       "(397, 2)"
      ]
     },
     "execution_count": 32,
     "metadata": {},
     "output_type": "execute_result"
    }
   ],
   "source": [
    "data.shape"
   ]
  },
  {
   "cell_type": "markdown",
   "id": "02b6190e",
   "metadata": {},
   "source": [
    "### Split the dataset into training set and testing set. Here, I am choosing the 250th time period ('9/1/2005') to make the split because there are 398 rows."
   ]
  },
  {
   "cell_type": "code",
   "execution_count": 33,
   "id": "113fed10",
   "metadata": {},
   "outputs": [],
   "source": [
    "get_data = TimeSeries.from_dataframe(data, 'DATE', 'IPG2211A2N')\n",
    "\n",
    "train_data, test_data = get_data.split_before(pd.Timestamp('9/1/2005'))"
   ]
  },
  {
   "cell_type": "code",
   "execution_count": 34,
   "id": "bd777eb8",
   "metadata": {},
   "outputs": [
    {
     "data": {
      "text/plain": [
       "<darts.models.forecasting.exponential_smoothing.ExponentialSmoothing at 0x27351fc3190>"
      ]
     },
     "execution_count": 34,
     "metadata": {},
     "output_type": "execute_result"
    }
   ],
   "source": [
    "from darts.models import ExponentialSmoothing\n",
    "\n",
    "model = ExponentialSmoothing()\n",
    "\n",
    "model.fit(train_data)"
   ]
  },
  {
   "cell_type": "code",
   "execution_count": 35,
   "id": "db9b6eac",
   "metadata": {},
   "outputs": [
    {
     "name": "stdout",
     "output_type": "stream",
     "text": [
      "Predicted <TimeSeries (DataArray) (DATE: 5, component: 1, sample: 1)>\n",
      "array([[[ 99.29951794]],\n",
      "\n",
      "       [[ 92.89865838]],\n",
      "\n",
      "       [[ 95.53511645]],\n",
      "\n",
      "       [[109.42318734]],\n",
      "\n",
      "       [[116.96666904]]])\n",
      "Coordinates:\n",
      "  * DATE       (DATE) datetime64[ns] 2005-09-01 2005-10-01 ... 2006-01-01\n",
      "  * component  (component) object 'IPG2211A2N'\n",
      "Dimensions without coordinates: sample\n",
      "Attributes:\n",
      "    static_covariates:  None\n",
      "    hierarchy:          None\n",
      "Actual <TimeSeries (DataArray) (DATE: 5, component: 1, sample: 1)>\n",
      "array([[[ 99.1155]],\n",
      "\n",
      "       [[ 89.7567]],\n",
      "\n",
      "       [[ 90.4587]],\n",
      "\n",
      "       [[108.2257]],\n",
      "\n",
      "       [[104.4724]]])\n",
      "Coordinates:\n",
      "  * DATE       (DATE) datetime64[ns] 2005-09-01 2005-10-01 ... 2006-01-01\n",
      "  * component  (component) object 'IPG2211A2N'\n",
      "Dimensions without coordinates: sample\n",
      "Attributes:\n",
      "    static_covariates:  None\n",
      "    hierarchy:          None\n"
     ]
    }
   ],
   "source": [
    "prediction = model.predict(len(test_data))\n",
    "\n",
    "print(\"Predicted\", prediction[:5])\n",
    "\n",
    "print(\"Actual\", test_data[:5])"
   ]
  },
  {
   "cell_type": "code",
   "execution_count": 38,
   "id": "eeee2829",
   "metadata": {},
   "outputs": [
    {
     "data": {
      "text/plain": [
       "<matplotlib.legend.Legend at 0x273577bea30>"
      ]
     },
     "execution_count": 38,
     "metadata": {},
     "output_type": "execute_result"
    },
    {
     "data": {
      "image/png": "[encoded data removed]",
      "text/plain": [
       "<Figure size 432x288 with 1 Axes>"
      ]
     },
     "metadata": {
      "needs_background": "light"
     },
     "output_type": "display_data"
    }
   ],
   "source": [
    "import matplotlib.pyplot as plt\n",
    "\n",
    "get_data.plot(label='actual')\n",
    "\n",
    "prediction.plot(label='predict', lw=2)\n",
    "\n",
    "plt.legend()"
   ]
  },
  {
   "cell_type": "markdown",
   "id": "fa7764fb",
   "metadata": {},
   "source": [
    "### The electric production values after year 2006 are forecasted."
   ]
  },
  {
   "cell_type": "code",
   "execution_count": null,
   "id": "b72fefe4",
   "metadata": {},
   "outputs": [],
   "source": []
  },
  {
   "cell_type": "code",
   "execution_count": null,
   "id": "a10dd412",
   "metadata": {},
   "outputs": [],
   "source": []
  }
 ],
 "metadata": {
  "kernelspec": {
   "display_name": "Python 3",
   "language": "python",
   "name": "python3"
  },
  "language_info": {
   "codemirror_mode": {
    "name": "ipython",
    "version": 3
   },
   "file_extension": ".py",
   "mimetype": "text/x-python",
   "name": "python",
   "nbconvert_exporter": "python",
   "pygments_lexer": "ipython3",
   "version": "3.9.7"
  }
 },
 "nbformat": 4,
 "nbformat_minor": 5
}
